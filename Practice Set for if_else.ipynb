{
 "cells": [
  {
   "cell_type": "code",
   "execution_count": 20,
   "id": "0b6cd6c7",
   "metadata": {},
   "outputs": [
    {
     "name": "stdout",
     "output_type": "stream",
     "text": [
      "Enter your age: 99\n",
      "You're eligible for Voting\n"
     ]
    }
   ],
   "source": [
    "# Write a program to check whether a person is eligible for voting or not. (accept age from user)\n",
    "\n",
    "age = int(input(\"Enter your age: \"))\n",
    "\n",
    "if age >= 18:\n",
    "    print(\"You're eligible for Voting\")\n",
    "else:\n",
    "    print(\"You're not eligible for voting this year\")"
   ]
  },
  {
   "cell_type": "code",
   "execution_count": 2,
   "id": "da8b23a2",
   "metadata": {},
   "outputs": [
    {
     "name": "stdout",
     "output_type": "stream",
     "text": [
      "Enter a number: 9\n",
      "The number is Odd\n"
     ]
    }
   ],
   "source": [
    "# Write a program to check whether a number entered by user is even or odd.\n",
    "\n",
    "number = int(input(\"Enter a number: \"))\n",
    "\n",
    "if number %2 == 0:\n",
    "    print(\"The number is Even\")\n",
    "else:\n",
    "    print(\"The number is Odd\")"
   ]
  },
  {
   "cell_type": "code",
   "execution_count": 21,
   "id": "16952a0e",
   "metadata": {},
   "outputs": [
    {
     "name": "stdout",
     "output_type": "stream",
     "text": [
      "Enter your age: 0\n",
      "You're not eligible for voting this year\n"
     ]
    }
   ],
   "source": [
    "# Write a program to check whether a person is eligible for voting or not. (accept age from user)\n",
    "\n",
    "age = int(input(\"Enter your age: \"))\n",
    "\n",
    "\n",
    "if age > 110 and age <=0:\n",
    "    print(\"Please enter valid age\")\n",
    "\n",
    "elif age >= 18:\n",
    "        print(\"You're eligible for Voting\")\n",
    "else:\n",
    "    print(\"You're not eligible for voting this year\")"
   ]
  },
  {
   "cell_type": "code",
   "execution_count": 22,
   "id": "6bdcb71d",
   "metadata": {},
   "outputs": [
    {
     "name": "stdout",
     "output_type": "stream",
     "text": [
      "Enter a number only: 48\n",
      "Please try again\n"
     ]
    }
   ],
   "source": [
    "# Write a program to check whether a number is divisible by 7 or not.\n",
    "\n",
    "number = int(input(\"Enter a number only: \"))\n",
    "\n",
    "if number %7 == 0:\n",
    "    print(\"Number is divisible\")\n",
    "else:\n",
    "    print(\"Please try again\")"
   ]
  },
  {
   "cell_type": "code",
   "execution_count": 23,
   "id": "9262a4d9",
   "metadata": {},
   "outputs": [
    {
     "name": "stdout",
     "output_type": "stream",
     "text": [
      "Enter a number only: 3\n",
      "Bye\n"
     ]
    }
   ],
   "source": [
    "# Write a program to display \"Hello\" if a number entered by user is a multiple of five, otherwise print \"Bye\"\n",
    "\n",
    "x = int(input(\"Enter a number only: \"))\n",
    "\n",
    "if x %5 ==0:\n",
    "    print('Hello')\n",
    "else:\n",
    "    print('Bye')"
   ]
  },
  {
   "cell_type": "code",
   "execution_count": 24,
   "id": "54f6b58b",
   "metadata": {},
   "outputs": [
    {
     "name": "stdout",
     "output_type": "stream",
     "text": [
      "Enter your age: -12\n",
      "Please enter valid age\n"
     ]
    }
   ],
   "source": [
    "age = int(input(\"Enter your age: \"))\n",
    "\n",
    "#if (isinstance(age,int)) == True:\n",
    "    \n",
    "if age > 110 or age < 0:\n",
    "    print(\"Please enter valid age\")\n",
    "\n",
    "elif age >= 18:\n",
    "        print(\"You're eligible for Voting\")\n",
    "else:\n",
    "    print(\"You're not eligible for voting this year\")\n",
    "\n",
    "#else:\n",
    "    #print(\"Enter a numeric Value\")"
   ]
  },
  {
   "cell_type": "code",
   "execution_count": 7,
   "id": "ab01c5a1",
   "metadata": {},
   "outputs": [
    {
     "name": "stdout",
     "output_type": "stream",
     "text": [
      "False\n"
     ]
    }
   ],
   "source": [
    "age = 'adh'\n",
    "\n",
    "print(isinstance(age,int))"
   ]
  },
  {
   "cell_type": "code",
   "execution_count": 10,
   "id": "e31b54b4",
   "metadata": {},
   "outputs": [],
   "source": [
    "#isinstance()"
   ]
  },
  {
   "cell_type": "markdown",
   "id": "3e5a4755",
   "metadata": {},
   "source": [
    "Write a program to calculate the electricity bill (accept number of unit from user) according to the following criteria :\n",
    "             Unit                                                     Price  \n",
    "First 100 units                                               no charge\n",
    "Next 100 units                                              Rs 5 per unit\n",
    "After 200 units                                             Rs 10 per unit\n",
    "(For example if input unit is 350 than total bill amount is Rs2000)\n"
   ]
  },
  {
   "cell_type": "code",
   "execution_count": 27,
   "id": "ca2421d2",
   "metadata": {},
   "outputs": [
    {
     "name": "stdout",
     "output_type": "stream",
     "text": [
      "Enter your Meter Unit: 9\n",
      "No Charge\n"
     ]
    }
   ],
   "source": [
    "unit = int(input(\"Enter your Meter Unit: \"))\n",
    "\n",
    "if unit < 0:   \n",
    "    \n",
    "    print(\"Please enter valid age\")      \n",
    "\n",
    "elif unit <= 100:  \n",
    "    \n",
    "    print(\"No Charge\")            \n",
    "elif unit >100 and unit <=200:  \n",
    "    \n",
    "    print(unit*5)    \n",
    "else:\n",
    "    print(unit*10)\n"
   ]
  },
  {
   "cell_type": "code",
   "execution_count": 19,
   "id": "ec0ebd2e",
   "metadata": {},
   "outputs": [
    {
     "name": "stdout",
     "output_type": "stream",
     "text": [
      "Enter your Meter Unit: 500\n",
      "5000\n"
     ]
    }
   ],
   "source": [
    "unit = int(input(\"Enter your Meter Unit: \"))\n",
    "\n",
    "if unit <0:\n",
    "    print(\" Please enter valid unit\")\n",
    "elif unit <=100 :\n",
    "    print(\"No need to Pay\")\n",
    "elif unit >100 and unit <= 200:\n",
    "    \n",
    "    print(unit*5)\n",
    "else:\n",
    "    print(unit*10)"
   ]
  },
  {
   "cell_type": "code",
   "execution_count": null,
   "id": "8daa174f",
   "metadata": {},
   "outputs": [],
   "source": []
  }
 ],
 "metadata": {
  "kernelspec": {
   "display_name": "Python 3 (ipykernel)",
   "language": "python",
   "name": "python3"
  },
  "language_info": {
   "codemirror_mode": {
    "name": "ipython",
    "version": 3
   },
   "file_extension": ".py",
   "mimetype": "text/x-python",
   "name": "python",
   "nbconvert_exporter": "python",
   "pygments_lexer": "ipython3",
   "version": "3.9.12"
  }
 },
 "nbformat": 4,
 "nbformat_minor": 5
}
